{
 "cells": [
  {
   "cell_type": "markdown",
   "metadata": {},
   "source": [
    "# enumerate()\n",
    "enumerate() is a built-in function which accepts the iterator or object which is iteratable as parameter and returns the object((the enumerate object)\n",
    "\n",
    "## Parameters:\n",
    "The enumerate() method takes two parameters:\n",
    "\n",
    "- iterable - a sequence, an iterator, or objects that supports iteration\n",
    "- start (optional) - enumerate() starts counting from this number. \n",
    "    - If start is omitted, 0 is taken as start.\n",
    "\n",
    "## Return value\n",
    "- It does this by returning a tuple in the form (count,element)\n",
    "   \n",
    "This function is equivalent to function below:\n",
    "```\n",
    "def enumerate(sequence, start=0):\n",
    "    n = start\n",
    "    for elem in sequence:\n",
    "        yield n, elem\n",
    "        n += 1\n",
    "```"
   ]
  },
  {
   "cell_type": "code",
   "execution_count": 1,
   "metadata": {},
   "outputs": [],
   "source": [
    "itr = [\"python\", \"C\", \"C++\", \"JAVA\"]"
   ]
  },
  {
   "cell_type": "code",
   "execution_count": 2,
   "metadata": {},
   "outputs": [
    {
     "name": "stdout",
     "output_type": "stream",
     "text": [
      "index: 0 element: python\n",
      "index: 1 element: C\n",
      "index: 2 element: C++\n",
      "index: 3 element: JAVA\n"
     ]
    }
   ],
   "source": [
    "for count, element in enumerate(itr):\n",
    "    print(\"index: {} element: {}\".format(count, element))"
   ]
  },
  {
   "cell_type": "code",
   "execution_count": 3,
   "metadata": {},
   "outputs": [
    {
     "name": "stdout",
     "output_type": "stream",
     "text": [
      "python\n",
      "C\n"
     ]
    }
   ],
   "source": [
    "for count,item in enumerate(itr):\n",
    "    if count >= 2:\n",
    "        break\n",
    "    else:\n",
    "        print(item)"
   ]
  }
 ],
 "metadata": {
  "kernelspec": {
   "display_name": "Python 3",
   "language": "python",
   "name": "python3"
  },
  "language_info": {
   "codemirror_mode": {
    "name": "ipython",
    "version": 3
   },
   "file_extension": ".py",
   "mimetype": "text/x-python",
   "name": "python",
   "nbconvert_exporter": "python",
   "pygments_lexer": "ipython3",
   "version": "3.7.6"
  }
 },
 "nbformat": 4,
 "nbformat_minor": 4
}
