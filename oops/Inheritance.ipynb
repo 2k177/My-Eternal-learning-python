{
 "cells": [
  {
   "cell_type": "markdown",
   "metadata": {},
   "source": [
    "# Inheritance"
   ]
  },
  {
   "cell_type": "markdown",
   "metadata": {},
   "source": [
    "super function can be used to replace the explicit call to Parent.__init__(self)"
   ]
  },
  {
   "cell_type": "markdown",
   "metadata": {},
   "source": [
    "## Single inheritance"
   ]
  },
  {
   "cell_type": "code",
   "execution_count": 4,
   "metadata": {},
   "outputs": [],
   "source": [
    "class baseClass:\n",
    "    def __init__(self, sides):\n",
    "        print(\"base class\")\n",
    "        self.base_prop = 1\n",
    "        self.sides = sides\n",
    "class derivedClass(baseClass):\n",
    "    def __init__(self):\n",
    "        super().__init__(3)\n",
    "        print(self.sides)"
   ]
  },
  {
   "cell_type": "code",
   "execution_count": 5,
   "metadata": {},
   "outputs": [
    {
     "name": "stdout",
     "output_type": "stream",
     "text": [
      "base class\n",
      "3\n"
     ]
    },
    {
     "data": {
      "text/plain": [
       "<__main__.derivedClass at 0x18f1860b1f0>"
      ]
     },
     "execution_count": 5,
     "metadata": {},
     "output_type": "execute_result"
    }
   ],
   "source": [
    "derivedClass()"
   ]
  },
  {
   "cell_type": "markdown",
   "metadata": {},
   "source": [
    "## Lets pass the argument from the derived class"
   ]
  },
  {
   "cell_type": "code",
   "execution_count": 6,
   "metadata": {},
   "outputs": [
    {
     "name": "stdout",
     "output_type": "stream",
     "text": [
      "base class\n",
      "property from base class: 4\n"
     ]
    }
   ],
   "source": [
    "class baseClass:\n",
    "    def __init__(self, sides):\n",
    "        print(\"base class\")\n",
    "        self.base_prop = 1\n",
    "        self.sides = sides\n",
    "class derivedClass(baseClass):\n",
    "    def __init__(self, side):\n",
    "        super().__init__(side)\n",
    "        print(f\"property from base class: {self.sides}\")\n",
    "\n",
    "t = derivedClass(4)"
   ]
  },
  {
   "cell_type": "markdown",
   "metadata": {},
   "source": [
    "## Multiple Inheritance"
   ]
  },
  {
   "cell_type": "markdown",
   "metadata": {},
   "source": [
    "When a class can be derived from more than one base class this type of inheritance is called multiple inheritance.\n",
    " - one class inherits from two unrelated (sibling) superclasses"
   ]
  },
  {
   "cell_type": "code",
   "execution_count": 14,
   "metadata": {},
   "outputs": [],
   "source": [
    "class baseClass:\n",
    "    def __init__(self, sides):\n",
    "        print(\"base class\")\n",
    "        self.base_prop = 1\n",
    "        self.sides = sides\n",
    "class baseClass1:\n",
    "    def __init__(self,sides):\n",
    "        print(\"base1 class\")\n",
    "        self.base_prop = 2\n",
    "        self.sides = sides\n",
    "class derivedClass(baseClass, baseClass1):\n",
    "    def __init__(self, side):\n",
    "        super().__init__(side)\n",
    "        print(f\"property from base class: {self.sides}\")\n",
    "        print(f\"property from base class1: {self.base_prop}\")"
   ]
  },
  {
   "cell_type": "code",
   "execution_count": 15,
   "metadata": {},
   "outputs": [
    {
     "name": "stdout",
     "output_type": "stream",
     "text": [
      "base class\n",
      "property from base class: 4\n",
      "property from base class1: 1\n"
     ]
    }
   ],
   "source": [
    "t = derivedClass(4)"
   ]
  },
  {
   "cell_type": "code",
   "execution_count": 44,
   "metadata": {},
   "outputs": [],
   "source": [
    "class Rectangle:\n",
    "    def __init__(self, length, width):\n",
    "        print(\"in Rectangle\")\n",
    "        self.length = length\n",
    "        self.width = width\n",
    "\n",
    "    def area(self):\n",
    "        return self.length * self.width\n",
    "\n",
    "class Square(Rectangle):\n",
    "    def __init__(self, length):\n",
    "        print(\"In square\")\n",
    "        super().__init__(length, length)\n",
    "\n",
    "class VolumeMixin:\n",
    "    def volume(self):\n",
    "        print(\"Volume.....\")\n",
    "        return self.area() * self.height\n",
    "\n",
    "class Cube(VolumeMixin, Square):\n",
    "    def __init__(self, length):\n",
    "        print(\"cube...\")\n",
    "        super().__init__(length)\n",
    "        self.height = length\n",
    "\n",
    "    def face_area(self):\n",
    "        return super().area()\n",
    "\n",
    "    def surface_area(self):\n",
    "        return super().area() * 6"
   ]
  },
  {
   "cell_type": "code",
   "execution_count": 45,
   "metadata": {},
   "outputs": [
    {
     "name": "stdout",
     "output_type": "stream",
     "text": [
      "cube...\n",
      "In square\n",
      "in Rectangle\n"
     ]
    }
   ],
   "source": [
    "cube = Cube(2)"
   ]
  },
  {
   "cell_type": "code",
   "execution_count": 46,
   "metadata": {},
   "outputs": [
    {
     "data": {
      "text/plain": [
       "24"
      ]
     },
     "execution_count": 46,
     "metadata": {},
     "output_type": "execute_result"
    }
   ],
   "source": [
    "cube.surface_area()"
   ]
  },
  {
   "cell_type": "code",
   "execution_count": 47,
   "metadata": {},
   "outputs": [
    {
     "data": {
      "text/plain": [
       "4"
      ]
     },
     "execution_count": 47,
     "metadata": {},
     "output_type": "execute_result"
    }
   ],
   "source": [
    "cube.face_area()"
   ]
  },
  {
   "cell_type": "code",
   "execution_count": 48,
   "metadata": {},
   "outputs": [
    {
     "name": "stdout",
     "output_type": "stream",
     "text": [
      "Volume.....\n"
     ]
    },
    {
     "data": {
      "text/plain": [
       "8"
      ]
     },
     "execution_count": 48,
     "metadata": {},
     "output_type": "execute_result"
    }
   ],
   "source": [
    "cube.volume()"
   ]
  },
  {
   "cell_type": "markdown",
   "metadata": {},
   "source": [
    " ## MRO Method Resolution Order\n",
    " we use multiple inheritances and it is also called Diamond inheritance or Deadly Diamond of Death and it looks as follows"
   ]
  },
  {
   "cell_type": "code",
   "execution_count": 54,
   "metadata": {},
   "outputs": [
    {
     "name": "stdout",
     "output_type": "stream",
     "text": [
      " In class B\n",
      "(<class '__main__.D'>, <class '__main__.B'>, <class '__main__.C'>, <class '__main__.A'>, <class 'object'>)\n"
     ]
    }
   ],
   "source": [
    "# Python program showing \n",
    "# how MRO works \n",
    "\n",
    "class A: \n",
    "\tdef rk(self): \n",
    "\t\tprint(\" In class A\") \n",
    "class B(A): \n",
    "\tdef rk(self): \n",
    "\t\tprint(\" In class B\") \n",
    "class C(A): \n",
    "\tdef rk(self): \n",
    "\t\tprint(\"In class C\") \n",
    "\n",
    "# classes ordering \n",
    "class D(B, C): \n",
    "\tpass\n",
    "\t\n",
    "r = D() \n",
    "r.rk() \n",
    "print(D.__mro__)\n"
   ]
  },
  {
   "cell_type": "code",
   "execution_count": 51,
   "metadata": {},
   "outputs": [
    {
     "name": "stdout",
     "output_type": "stream",
     "text": [
      "Constructor C\n",
      " In class A\n",
      "None\n",
      "(<class '__main__.C'>, <class '__main__.A'>, <class '__main__.B'>, <class 'object'>)\n",
      "[<class '__main__.C'>, <class '__main__.A'>, <class '__main__.B'>, <class 'object'>]\n"
     ]
    }
   ],
   "source": [
    "# Python program to show the order \n",
    "# in which methods are resolved \n",
    "\n",
    "class A: \n",
    "\tdef rk(self): \n",
    "\t\tprint(\" In class A\") \n",
    "class B: \n",
    "\tdef rk(self): \n",
    "\t\tprint(\" In class B\") \n",
    "\n",
    "# classes ordering \n",
    "class C(A, B): \n",
    "\tdef __init__(self): \n",
    "\t\tprint(\"Constructor C\") \n",
    "\n",
    "r = C() \n",
    "\n",
    "# it prints the lookup order\n",
    "print(r.rk())\n",
    "print(C.__mro__) \n",
    "print(C.mro()) \n"
   ]
  },
  {
   "cell_type": "markdown",
   "metadata": {},
   "source": [
    "## Multilevel inheritence"
   ]
  },
  {
   "cell_type": "code",
   "execution_count": 56,
   "metadata": {},
   "outputs": [
    {
     "name": "stdout",
     "output_type": "stream",
     "text": [
      "Lal mani\n",
      "Grandfather name : Lal mani\n",
      "Father name : Rampal\n",
      "Son name : Prince\n"
     ]
    }
   ],
   "source": [
    "# multilevel inheritance\n",
    "\n",
    "# Base class\n",
    "class Grandfather:\n",
    "\n",
    "\tdef __init__(self, grandfathername):\n",
    "\t\tself.grandfathername = grandfathername\n",
    "\n",
    "# Intermediate class\n",
    "class Father(Grandfather):\n",
    "\tdef __init__(self, fathername, grandfathername):\n",
    "\t\tself.fathername = fathername\n",
    "\n",
    "\t\t# invoking constructor of Grandfather class\n",
    "\t\tGrandfather.__init__(self, grandfathername)\n",
    "\n",
    "# Derived class\n",
    "class Son(Father):\n",
    "\tdef __init__(self,sonname, fathername, grandfathername):\n",
    "\t\tself.sonname = sonname\n",
    "\n",
    "\t\t# invoking constructor of Father class\n",
    "\t\tFather.__init__(self, fathername, grandfathername)\n",
    "\n",
    "\tdef print_name(self):\n",
    "\t\tprint('Grandfather name :', self.grandfathername)\n",
    "\t\tprint(\"Father name :\", self.fathername)\n",
    "\t\tprint(\"Son name :\", self.sonname)\n",
    "\n",
    "# Driver code\n",
    "s1 = Son('Prince', 'Rampal', 'Lal mani')\n",
    "print(s1.grandfathername)\n",
    "s1.print_name()\n"
   ]
  }
 ],
 "metadata": {
  "kernelspec": {
   "display_name": "Python 3",
   "language": "python",
   "name": "python3"
  },
  "language_info": {
   "codemirror_mode": {
    "name": "ipython",
    "version": 3
   },
   "file_extension": ".py",
   "mimetype": "text/x-python",
   "name": "python",
   "nbconvert_exporter": "python",
   "pygments_lexer": "ipython3",
   "version": "3.8.5"
  }
 },
 "nbformat": 4,
 "nbformat_minor": 4
}
