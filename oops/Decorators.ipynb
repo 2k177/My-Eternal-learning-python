{
 "cells": [
  {
   "cell_type": "markdown",
   "metadata": {},
   "source": [
    "# Decorators"
   ]
  },
  {
   "cell_type": "markdown",
   "metadata": {},
   "source": [
    "Decorators allow us to wrap another function in order to extend the behavior of the wrapped function, without permanently modifying it."
   ]
  },
  {
   "cell_type": "code",
   "execution_count": 1,
   "metadata": {},
   "outputs": [],
   "source": [
    "# defining a decorator\n",
    "def hello_decorator(func):\n",
    "    # inner1 is a Wrapper function in\n",
    "    # which the argument is called\n",
    "\n",
    "    # inner function can access the outer local\n",
    "    # functions like in this case \"func\"\n",
    "    def inner1():\n",
    "        print(\"Hello, this is before function execution\")\n",
    "\n",
    "        # calling the actual function now\n",
    "        # inside the wrapper function.\n",
    "        func()\n",
    "\n",
    "        print(\"This is after function execution\")\n",
    "\n",
    "    return inner1\n",
    "# defining a function, to be called inside wrapper\n",
    "def function_to_be_used():\n",
    "    print(\"This is inside the function !!\")\n",
    "\n",
    "\n",
    "# passing 'function_to_be_used' inside the\n",
    "# decorator to control its behavior\n",
    "function_to_be_used = hello_decorator(function_to_be_used)\n"
   ]
  },
  {
   "cell_type": "code",
   "execution_count": 2,
   "metadata": {},
   "outputs": [
    {
     "name": "stdout",
     "output_type": "stream",
     "text": [
      "Hello, this is before function execution\n",
      "This is inside the function !!\n",
      "This is after function execution\n"
     ]
    }
   ],
   "source": [
    "function_to_be_used()"
   ]
  },
  {
   "cell_type": "markdown",
   "metadata": {},
   "source": [
    "What if a function returns something or an argument is passed to the function???????"
   ]
  },
  {
   "cell_type": "code",
   "execution_count": 5,
   "metadata": {},
   "outputs": [
    {
     "name": "stdout",
     "output_type": "stream",
     "text": [
      "Hello, this is before function execution\n",
      "This is after function execution\n"
     ]
    },
    {
     "data": {
      "text/plain": [
       "14"
      ]
     },
     "execution_count": 5,
     "metadata": {},
     "output_type": "execute_result"
    }
   ],
   "source": [
    "# defining a decorator with arguments and return value\n",
    "def hello_decorator(func):\n",
    "    # inner1 is a Wrapper function in\n",
    "    # which the argument is called\n",
    "\n",
    "    # inner function can access the outer local\n",
    "    # functions like in this case \"func\"\n",
    "    def inner1(a,b):\n",
    "        print(\"Hello, this is before function execution\")\n",
    "\n",
    "        # calling the actual function now\n",
    "        # inside the wrapper function.\n",
    "        sum = func(a,b)\n",
    "\n",
    "        print(\"This is after function execution\")\n",
    "        return sum\n",
    "\n",
    "    return inner1\n",
    "@hello_decorator\n",
    "def funct_to_be_called(a,b):\n",
    "    return a+b\n",
    "funct_to_be_called(5,9)"
   ]
  },
  {
   "cell_type": "markdown",
   "metadata": {},
   "source": [
    "## Chaning decorators"
   ]
  },
  {
   "cell_type": "code",
   "execution_count": 10,
   "metadata": {},
   "outputs": [
    {
     "name": "stdout",
     "output_type": "stream",
     "text": [
      "Inside decor 20\n",
      "Inside decor1 400\n",
      "400\n"
     ]
    }
   ],
   "source": [
    "# code for testing decorator chaining \n",
    "def decor1(func):\n",
    "    def inner():\n",
    "        x = func()\n",
    "        print(\"Inside decor1\",x * x)\n",
    "        return x * x\n",
    "    return inner \n",
    "\n",
    "def decor(func):\n",
    "    def inner(): \n",
    "        \n",
    "        x = func()\n",
    "        print(\"Inside decor\",2 * x)\n",
    "        return 2 * x\n",
    "    return inner \n",
    "\n",
    "@decor1\n",
    "@decor\n",
    "def num():\n",
    "    return 10\n",
    "\n",
    "print(num()) "
   ]
  },
  {
   "cell_type": "markdown",
   "metadata": {},
   "source": [
    "## Class decorators"
   ]
  },
  {
   "cell_type": "markdown",
   "metadata": {},
   "source": [
    "We can define a decorator as a class in order to do that, we have to use a __call__ method of classes"
   ]
  },
  {
   "cell_type": "markdown",
   "metadata": {},
   "source": [
    "## __call__\n",
    " The __call__ method enables Python programmers to write classes where the instances behave like functions and can be called like a function. When the instance is called as a function; if this method is defined, x(arg1, arg2, ...) is a shorthand for x.__call__(arg1, arg2, ...).\n",
    "\n",
    "object() is shorthand for object.__call__()"
   ]
  },
  {
   "cell_type": "code",
   "execution_count": 11,
   "metadata": {},
   "outputs": [
    {
     "name": "stdout",
     "output_type": "stream",
     "text": [
      "Instance Created\n",
      "Instance is called via special method\n"
     ]
    }
   ],
   "source": [
    "class Example: \n",
    "\tdef __init__(self): \n",
    "\t\tprint(\"Instance Created\") \n",
    "\t\n",
    "\t# Defining __call__ method \n",
    "\tdef __call__(self): \n",
    "\t\tprint(\"Instance is called via special method\") \n",
    "\n",
    "# Instance created \n",
    "e = Example() \n",
    "\n",
    "# __call__ method will be called \n",
    "e() \n"
   ]
  },
  {
   "cell_type": "markdown",
   "metadata": {},
   "source": [
    "Example to show __call__ calls the instance as the function with the arguments"
   ]
  },
  {
   "cell_type": "code",
   "execution_count": 12,
   "metadata": {},
   "outputs": [
    {
     "name": "stdout",
     "output_type": "stream",
     "text": [
      "Instance Created\n",
      "200\n"
     ]
    }
   ],
   "source": [
    "class Product: \n",
    "    def __init__(self): \n",
    "        print(\"Instance Created\") \n",
    "  \n",
    "    # Defining __call__ method \n",
    "    def __call__(self, a, b): \n",
    "        print(a * b) \n",
    "  \n",
    "# Instance created \n",
    "ans = Product() \n",
    "  \n",
    "# __call__ method will be called \n",
    "ans(10, 20) "
   ]
  },
  {
   "cell_type": "markdown",
   "metadata": {},
   "source": [
    "Class decorators using __call__ build in method"
   ]
  },
  {
   "cell_type": "code",
   "execution_count": 15,
   "metadata": {},
   "outputs": [
    {
     "name": "stdout",
     "output_type": "stream",
     "text": [
      "This is before execution\n",
      "This is after function execution\n"
     ]
    },
    {
     "data": {
      "text/plain": [
       "14"
      ]
     },
     "execution_count": 15,
     "metadata": {},
     "output_type": "execute_result"
    }
   ],
   "source": [
    "# Class decorators\n",
    "class Hello_decorator:\n",
    "    \n",
    "    def __init__(self, function):\n",
    "        self.function = function\n",
    "    def __call__(self,a , b):\n",
    "        print(\"This is before execution\")\n",
    "        return_value = self.function(a,b)\n",
    "        print(\"This is after function execution\")\n",
    "        return return_value\n",
    "\n",
    "@Hello_decorator\n",
    "def funct_to_be_called(a,b):\n",
    "    return a+b\n",
    "funct_to_be_called(5,9)"
   ]
  }
 ],
 "metadata": {
  "kernelspec": {
   "display_name": "Python 3",
   "language": "python",
   "name": "python3"
  },
  "language_info": {
   "codemirror_mode": {
    "name": "ipython",
    "version": 3
   },
   "file_extension": ".py",
   "mimetype": "text/x-python",
   "name": "python",
   "nbconvert_exporter": "python",
   "pygments_lexer": "ipython3",
   "version": "3.8.5"
  }
 },
 "nbformat": 4,
 "nbformat_minor": 4
}
