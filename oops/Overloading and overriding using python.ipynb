{
 "cells": [
  {
   "cell_type": "markdown",
   "metadata": {},
   "source": [
    "# Overloading"
   ]
  },
  {
   "cell_type": "markdown",
   "metadata": {},
   "source": [
    "## Operator Overloading"
   ]
  },
  {
   "cell_type": "markdown",
   "metadata": {},
   "source": [
    "Operator overloading is used to customize the function of an operator (e.g., +,*,<,== etc.) for a user-defined class.\n",
    "In Python, overloading is achieved by overriding the method which is specifically for that operator, in the user-defined class.\n",
    "This feature in Python that allows the same operator to have different meaning according to the context is called operator overloading."
   ]
  },
  {
   "cell_type": "markdown",
   "metadata": {},
   "source": [
    "For example, __add__(self, x) is a method reserved for overloading + operator, and __eq__(self, x) is for overloading ==.\n"
   ]
  },
  {
   "cell_type": "code",
   "execution_count": 15,
   "metadata": {},
   "outputs": [
    {
     "ename": "TypeError",
     "evalue": "unsupported operand type(s) for +: 'Point' and 'Point'",
     "output_type": "error",
     "traceback": [
      "\u001b[1;31m---------------------------------------------------------------------------\u001b[0m",
      "\u001b[1;31mTypeError\u001b[0m                                 Traceback (most recent call last)",
      "\u001b[1;32m<ipython-input-15-117bb3bdfa23>\u001b[0m in \u001b[0;36m<module>\u001b[1;34m\u001b[0m\n\u001b[0;32m      7\u001b[0m \u001b[0mp1\u001b[0m \u001b[1;33m=\u001b[0m \u001b[0mPoint\u001b[0m\u001b[1;33m(\u001b[0m\u001b[1;36m1\u001b[0m\u001b[1;33m,\u001b[0m \u001b[1;36m2\u001b[0m\u001b[1;33m)\u001b[0m\u001b[1;33m\u001b[0m\u001b[1;33m\u001b[0m\u001b[0m\n\u001b[0;32m      8\u001b[0m \u001b[0mp2\u001b[0m \u001b[1;33m=\u001b[0m \u001b[0mPoint\u001b[0m\u001b[1;33m(\u001b[0m\u001b[1;36m2\u001b[0m\u001b[1;33m,\u001b[0m \u001b[1;36m3\u001b[0m\u001b[1;33m)\u001b[0m\u001b[1;33m\u001b[0m\u001b[1;33m\u001b[0m\u001b[0m\n\u001b[1;32m----> 9\u001b[1;33m \u001b[0mprint\u001b[0m\u001b[1;33m(\u001b[0m\u001b[0mp1\u001b[0m\u001b[1;33m+\u001b[0m\u001b[0mp2\u001b[0m\u001b[1;33m)\u001b[0m\u001b[1;33m\u001b[0m\u001b[1;33m\u001b[0m\u001b[0m\n\u001b[0m",
      "\u001b[1;31mTypeError\u001b[0m: unsupported operand type(s) for +: 'Point' and 'Point'"
     ]
    }
   ],
   "source": [
    "class Point:\n",
    "    def __init__(self, x=0, y=0):\n",
    "        self.x = x\n",
    "        self.y = y\n",
    "\n",
    "\n",
    "p1 = Point(1, 2)\n",
    "p2 = Point(2, 3)\n",
    "print(p1+p2)"
   ]
  },
  {
   "cell_type": "markdown",
   "metadata": {},
   "source": [
    "### Using operator overloading\n",
    " when you use p1 + p2, Python calls p1.__add__(p2) which in turn is Point.__add__(p1,p2). After this, the addition operation is carried out the way we specified."
   ]
  },
  {
   "cell_type": "code",
   "execution_count": 21,
   "metadata": {},
   "outputs": [
    {
     "name": "stdout",
     "output_type": "stream",
     "text": [
      "(3,5)\n"
     ]
    }
   ],
   "source": [
    "class Point:\n",
    "    def __init__(self, x = 0, y = 0):\n",
    "        self.x = x\n",
    "        self.y = y\n",
    "    \n",
    "    def __str__(self):\n",
    "        return \"({0},{1})\".format(self.x,self.y)\n",
    "    \n",
    "    def __add__(self, other):\n",
    "        x = self.x + other.x\n",
    "        y = self.y + other.y\n",
    "        return Point(x, y)\n",
    "p1 = Point(1, 2)\n",
    "p2 = Point(2, 3)\n",
    "\n",
    "print(p1+p2)\n"
   ]
  },
  {
   "cell_type": "markdown",
   "metadata": {},
   "source": [
    "### Chaining:\n",
    "In the context of operator overloading, chaining is when you use an operator multiple times in the same line"
   ]
  },
  {
   "cell_type": "code",
   "execution_count": 6,
   "metadata": {},
   "outputs": [
    {
     "name": "stdout",
     "output_type": "stream",
     "text": [
      "Name: Strawberry, Weight: 5\n",
      " Name: Watermelon, Weight: 100\n",
      " Name: Mango, Weight: 20\n",
      "\n",
      "Weight: 125\n",
      "\n"
     ]
    }
   ],
   "source": [
    "class Fruit:\n",
    "  def __init__(self, weight, name = \"none\"):\n",
    "    self.name = name;\n",
    "    self.weight = weight;\n",
    "  \n",
    "  def __add__(self, x):\n",
    "    if isinstance (x, Fruit):\n",
    "      return Fruit(self.weight + x.weight)\n",
    "    if isinstance (x, int):\n",
    "      return Fruit(self.weight + x, self.name)\n",
    "  \n",
    "  def __eq__(self, x):\n",
    "    # Comparing names and not weights:\n",
    "    if self.name == x.name:\n",
    "      print(\"Both are the same fruits\")\n",
    "    else:\n",
    "      print(self.name, \"and\", x.name, \"are different fruits.\")\n",
    "  \n",
    "  # Overloading __str__() to use print(Fruit):\n",
    "  def __str__(self):\n",
    "    if self.name == \"none\":\n",
    "      return \"Weight: {0}\\n\".format(self.weight)\n",
    "    else:\n",
    "      return \"Name: {0}, Weight: {1}\\n\".format(self.name, self.weight)\n",
    "\n",
    "a = Fruit(5, \"Strawberry\")\n",
    "b = Fruit(100, \"Watermelon\")\n",
    "c = Fruit(20, \"Mango\")\n",
    "\n",
    "print(a, b, c)\n",
    "print(a + b + c)\n",
    "\n",
    "#a == b"
   ]
  },
  {
   "cell_type": "code",
   "execution_count": null,
   "metadata": {},
   "outputs": [],
   "source": [
    "# Passing salary as argument to constructor:\n",
    "class Person:\n",
    "    def __init__(self, salary):\n",
    "        self.salary = salary\n",
    "        print(f\"init____{self.salary}\")\n",
    "    def __add__(self, x):\n",
    "        print(self.salary, \"---\")\n",
    "        if isinstance(x, Person):\n",
    "            return Person(self.salary + x.salary)\n",
    "#         if isinstance(x, int) :\n",
    "#              return Person(self.salary + x)\n",
    "    def __str__(self):\n",
    "        return \"Sum: {0}\\n\".format(self.salary)\n",
    "        \n",
    "a = Person(5000)\n",
    "b = Person(10000)\n",
    "c = Person(15000) \n",
    "\n",
    "# Using '+' two times:\n",
    "print(a + b + c)"
   ]
  },
  {
   "cell_type": "markdown",
   "metadata": {},
   "source": [
    "Useful link: https://www.programiz.com/python-programming/operator-overloading"
   ]
  },
  {
   "cell_type": "markdown",
   "metadata": {},
   "source": [
    "## Method overloading in python\n",
    "Python does not support function overloading. When we define multiple functions with the same name, the later one always overrides the prior and thus, in the namespace, there will always be a single entry against each function name. We see what exists in Python namespaces by invoking functions locals() and globals(), which returns local and global namespace respectively."
   ]
  },
  {
   "cell_type": "code",
   "execution_count": 22,
   "metadata": {},
   "outputs": [],
   "source": [
    "def area(radius):\n",
    "  return 3.14 * radius ** 2\n"
   ]
  },
  {
   "cell_type": "markdown",
   "metadata": {},
   "source": [
    "locals()==>\n",
    "{'area': <function area at 0x10476a440>,}\n",
    "Calling the function locals() after defining a function we see that it returns a dictionary of all variables defined in the local namespace. The key of the dictionary is the name of the variable and value is the reference/value of that variable."
   ]
  },
  {
   "cell_type": "markdown",
   "metadata": {},
   "source": [
    "Implementing Function Overloading in Python : Using Decorators\n",
    "Python is that we may overload the methods but can only use the latest defined method."
   ]
  },
  {
   "cell_type": "code",
   "execution_count": 31,
   "metadata": {},
   "outputs": [
    {
     "name": "stdout",
     "output_type": "stream",
     "text": [
      "----\n",
      "the function execution took: 0.0 seconds\n",
      "----\n",
      "the function execution took: 0.0 seconds\n"
     ]
    },
    {
     "data": {
      "text/plain": [
       "72"
      ]
     },
     "execution_count": 31,
     "metadata": {},
     "output_type": "execute_result"
    }
   ],
   "source": [
    "import time\n",
    "\n",
    "\n",
    "def my_decorator(fn):\n",
    "  \"\"\"my_decorator is a custom decorator that wraps any function\n",
    "  and prints on stdout the time for execution.\n",
    "  \"\"\"\n",
    "  def wrapper_function(*args, **kwargs):\n",
    "    start_time = time.time()\n",
    "\n",
    "    # invoking the wrapped function and getting the return value.\n",
    "    value = fn(*args, **kwargs)\n",
    "    print(\"the function execution took:\", time.time() - start_time, \"seconds\")\n",
    "\n",
    "    # returning the value got after invoking the wrapped function\n",
    "    return value\n",
    "\n",
    "  return wrapper_function\n",
    "\n",
    "\n",
    "@my_decorator\n",
    "def area(l, b):\n",
    "  return l * b\n",
    "\n",
    "@my_decorator\n",
    "def area(l, b, h=0):\n",
    "  return l * b * h\n",
    "\n",
    "area(3, 4)\n",
    "area(3, 4, 6)"
   ]
  },
  {
   "cell_type": "code",
   "execution_count": 34,
   "metadata": {},
   "outputs": [
    {
     "name": "stdout",
     "output_type": "stream",
     "text": [
      "100\n"
     ]
    }
   ],
   "source": [
    "# First product method.\n",
    "# Takes two argument and print their\n",
    "# product\n",
    "def product(a, b):\n",
    "\tp = a * b\n",
    "\tprint(p)\n",
    "\t\n",
    "# Second product method\n",
    "# Takes three argument and print their\n",
    "# product\n",
    "def product(a, b, c):\n",
    "\tp = a * b*c\n",
    "\tprint(p)\n",
    "\n",
    "# Uncommenting the below line shows an error\t\n",
    "# product(4, 5)\n",
    "\n",
    "# This line will call the second product method\n",
    "product(4, 5, 5)\n"
   ]
  },
  {
   "cell_type": "markdown",
   "metadata": {},
   "source": [
    "Using multiple dispatch"
   ]
  },
  {
   "cell_type": "code",
   "execution_count": 35,
   "metadata": {},
   "outputs": [
    {
     "name": "stdout",
     "output_type": "stream",
     "text": [
      "12\n",
      "17.204\n"
     ]
    }
   ],
   "source": [
    "from multipledispatch import dispatch\n",
    "\n",
    "#passing one parameter\n",
    "@dispatch(int,int)\n",
    "def product(first,second):\n",
    "\tresult = first*second\n",
    "\tprint(result);\n",
    "\n",
    "#passing two parameters\n",
    "@dispatch(int,int,int)\n",
    "def product(first,second,third):\n",
    "\tresult = first * second * third\n",
    "\tprint(result);\n",
    "\n",
    "#you can also pass data type of any value as per requirement\n",
    "@dispatch(float,float,float)\n",
    "def product(first,second,third):\n",
    "\tresult = first * second * third\n",
    "\tprint(result);\n",
    "\n",
    "\n",
    "#calling product method with 2 arguments\n",
    "product(2,3,2) #this will give output of 12\n",
    "product(2.2,3.4,2.3) # this will give output of 17.985999999999997\n"
   ]
  },
  {
   "cell_type": "markdown",
   "metadata": {},
   "source": [
    "## Method override\n",
    "Method overriding is an ability of any object-oriented programming language that allows a subclass or child class to provide a specific implementation of a method that is already provided by one of its super-classes or parent classes.\n",
    "https://www.geeksforgeeks.org/method-overriding-in-python/ "
   ]
  },
  {
   "cell_type": "code",
   "execution_count": 36,
   "metadata": {},
   "outputs": [
    {
     "data": {
      "text/plain": [
       "5"
      ]
     },
     "execution_count": 36,
     "metadata": {},
     "output_type": "execute_result"
    }
   ],
   "source": [
    "class Parent(object):\n",
    "     def __init__(self):\n",
    "         self.value = 4\n",
    "     def get_value(self):\n",
    "         return self.value\n",
    " \n",
    "class Child(Parent):\n",
    "     def get_value(self):\n",
    "         return self.value + 1\n",
    "c = Child()\n",
    "c.get_value()"
   ]
  },
  {
   "cell_type": "code",
   "execution_count": 37,
   "metadata": {},
   "outputs": [
    {
     "name": "stdout",
     "output_type": "stream",
     "text": [
      "Inside Parent\n",
      "Inside Child\n"
     ]
    }
   ],
   "source": [
    "# Python program to demonstrate\n",
    "# method overriding\n",
    "\n",
    "\n",
    "# Defining parent class\n",
    "class Parent():\n",
    "\t\n",
    "\t# Constructor\n",
    "\tdef __init__(self):\n",
    "\t\tself.value = \"Inside Parent\"\n",
    "\t\t\n",
    "\t# Parent's show method\n",
    "\tdef show(self):\n",
    "\t\tprint(self.value)\n",
    "\t\t\n",
    "# Defining child class\n",
    "class Child(Parent):\n",
    "\t\n",
    "\t# Constructor\n",
    "\tdef __init__(self):\n",
    "\t\tself.value = \"Inside Child\"\n",
    "\t\t\n",
    "\t# Child's show method\n",
    "\tdef show(self):\n",
    "\t\tprint(self.value)\n",
    "\t\t\n",
    "\t\t\n",
    "# Driver's code\n",
    "obj1 = Parent()\n",
    "obj2 = Child()\n",
    "\n",
    "obj1.show()\n",
    "obj2.show()\n"
   ]
  },
  {
   "cell_type": "markdown",
   "metadata": {},
   "source": [
    "### Method overriding in multiple inheritance"
   ]
  },
  {
   "cell_type": "code",
   "execution_count": 38,
   "metadata": {},
   "outputs": [
    {
     "name": "stdout",
     "output_type": "stream",
     "text": [
      "Inside Child\n",
      "Inside Parent2\n"
     ]
    }
   ],
   "source": [
    "# Python program to demonstrate\n",
    "# overriding in multiple inheritance\n",
    "\n",
    "\n",
    "# Defining parent class 1\n",
    "class Parent1():\n",
    "\t\t\n",
    "\t# Parent's show method\n",
    "\tdef show(self):\n",
    "\t\tprint(\"Inside Parent1\")\n",
    "\t\t\n",
    "# Defining Parent class 2\n",
    "class Parent2():\n",
    "\t\t\n",
    "\t# Parent's show method\n",
    "\tdef display(self):\n",
    "\t\tprint(\"Inside Parent2\")\n",
    "\t\t\n",
    "\t\t\n",
    "# Defining child class\n",
    "class Child(Parent1, Parent2):\n",
    "\t\t\n",
    "\t# Child's show method\n",
    "\tdef show(self):\n",
    "\t\tprint(\"Inside Child\")\n",
    "\t\n",
    "\t\t\n",
    "# Driver's code\n",
    "obj = Child()\n",
    "\n",
    "obj.show()\n",
    "obj.display()\n"
   ]
  },
  {
   "cell_type": "markdown",
   "metadata": {},
   "source": [
    "### Method overriding in multilevel overriding"
   ]
  },
  {
   "cell_type": "code",
   "execution_count": 39,
   "metadata": {},
   "outputs": [
    {
     "name": "stdout",
     "output_type": "stream",
     "text": [
      "Inside GrandChild\n",
      "Inside Parent\n"
     ]
    }
   ],
   "source": [
    "# Python program to demonstrate\n",
    "# overriding in multilevel inheritance\n",
    "\n",
    "\n",
    "# Python program to demonstrate\n",
    "# overriding in multilevel inheritance\n",
    "\n",
    "\n",
    "class Parent():\n",
    "\t\t\n",
    "\t# Parent's show method\n",
    "\tdef display(self):\n",
    "\t\tprint(\"Inside Parent\")\n",
    "\t\n",
    "\t\n",
    "# Inherited or Sub class (Note Parent in bracket)\n",
    "class Child(Parent):\n",
    "\t\t\n",
    "\t# Child's show method\n",
    "\tdef show(self):\n",
    "\t\tprint(\"Inside Child\")\n",
    "\t\n",
    "# Inherited or Sub class (Note Child in bracket)\n",
    "class GrandChild(Child):\n",
    "\t\t\n",
    "\t# Child's show method\n",
    "\tdef show(self):\n",
    "\t\tprint(\"Inside GrandChild\")\t\t\n",
    "\t\n",
    "# Driver code\n",
    "g = GrandChild()\n",
    "g.show()\n",
    "g.display()\n"
   ]
  },
  {
   "cell_type": "code",
   "execution_count": null,
   "metadata": {},
   "outputs": [],
   "source": []
  }
 ],
 "metadata": {
  "kernelspec": {
   "display_name": "Python 3",
   "language": "python",
   "name": "python3"
  },
  "language_info": {
   "codemirror_mode": {
    "name": "ipython",
    "version": 3
   },
   "file_extension": ".py",
   "mimetype": "text/x-python",
   "name": "python",
   "nbconvert_exporter": "python",
   "pygments_lexer": "ipython3",
   "version": "3.8.5"
  }
 },
 "nbformat": 4,
 "nbformat_minor": 4
}
